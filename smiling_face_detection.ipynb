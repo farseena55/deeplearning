{
 "cells": [
  {
   "cell_type": "code",
   "execution_count": 1,
   "id": "676564a0-d1c7-4f86-bcc2-383907cd6a70",
   "metadata": {},
   "outputs": [],
   "source": [
    "import cv2\n",
    "facecascade = cv2.CascadeClassifier('haarcascade_frontalface_default.xml')\n"
   ]
  },
  {
   "cell_type": "code",
   "execution_count": 2,
   "id": "7db8b591-ffe6-45b8-a67f-cfff1472b5ca",
   "metadata": {},
   "outputs": [],
   "source": [
    "img = cv2.imread('smile2.jpg')\n",
    "gray = cv2.cvtColor(img,cv2.COLOR_BGR2GRAY)\n"
   ]
  },
  {
   "cell_type": "code",
   "execution_count": 3,
   "id": "956e6232-80f5-4222-b901-38a0a471aec7",
   "metadata": {},
   "outputs": [],
   "source": [
    "# Scale factor - parameter showing how much the image size is reduced\n",
    "# minneibors - parameter showing how many neibors each candidate rectangle show\n",
    "# minsize = minimum possible object size. object smaller than that are ignored"
   ]
  },
  {
   "cell_type": "code",
   "execution_count": 12,
   "id": "aafa0686-6d56-46b6-90ce-1abaf9527bb0",
   "metadata": {},
   "outputs": [],
   "source": [
    "faces = facecascade.detectMultiScale(gray,scaleFactor=1.1, minNeighbors=1,minSize=(30,30))\n"
   ]
  },
  {
   "cell_type": "code",
   "execution_count": 5,
   "id": "f8976f85-a2da-453d-a37b-0533e2792059",
   "metadata": {},
   "outputs": [],
   "source": [
    "# scale factor compensates for the fact that some faces may be closer to the camera and may appear bigger than they actually are"
   ]
  },
  {
   "cell_type": "code",
   "execution_count": 13,
   "id": "8e7b020a-8f6a-4be0-9a1b-108809c7c024",
   "metadata": {},
   "outputs": [
    {
     "name": "stdout",
     "output_type": "stream",
     "text": [
      "Found 5 faces!\n",
      "[[ 97  22  61  61]\n",
      " [261  65  91  91]\n",
      " [162 172 132 132]\n",
      " [122 174 127 127]\n",
      " [ 12 101 121 121]]\n"
     ]
    }
   ],
   "source": [
    "print(\"Found {0} faces!\".format(len(faces)))  # to get the face location\n",
    "print(faces)\n",
    "\n",
    "for(x,y,w,h)in faces:\n",
    "    cv2.rectangle(img,(x,y),(x+w,y+h),(0,0,255),5)\n"
   ]
  },
  {
   "cell_type": "code",
   "execution_count": 14,
   "id": "29466048-a878-44fe-bc29-22a708b17c04",
   "metadata": {},
   "outputs": [],
   "source": [
    "cv2.imshow(\"faces\",img)\n",
    "cv2.waitKey(0)\n",
    "cv2.destroyAllWindows()"
   ]
  },
  {
   "cell_type": "code",
   "execution_count": 8,
   "id": "4f507b9f-f679-4382-9829-eb5ab9a58ff2",
   "metadata": {},
   "outputs": [],
   "source": [
    "# cv2cascadeclassifier - this is a class in the opencv library used for object detection using haar like features.\n",
    "# its specifically designed to detct various objects based on pretrained xml classifiers.\n",
    "# xml file contains\n"
   ]
  }
 ],
 "metadata": {
  "kernelspec": {
   "display_name": "Python 3 (ipykernel)",
   "language": "python",
   "name": "python3"
  },
  "language_info": {
   "codemirror_mode": {
    "name": "ipython",
    "version": 3
   },
   "file_extension": ".py",
   "mimetype": "text/x-python",
   "name": "python",
   "nbconvert_exporter": "python",
   "pygments_lexer": "ipython3",
   "version": "3.11.7"
  }
 },
 "nbformat": 4,
 "nbformat_minor": 5
}
