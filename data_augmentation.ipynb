{
 "cells": [
  {
   "cell_type": "code",
   "execution_count": 2,
   "id": "867680b2-6acb-463c-9098-91cc10598ecc",
   "metadata": {},
   "outputs": [],
   "source": [
    "from tensorflow.keras.utils import img_to_array, array_to_img, load_img"
   ]
  },
  {
   "cell_type": "code",
   "execution_count": 3,
   "id": "0e22c1fe-8f99-4b62-94d3-c90ed454bf0b",
   "metadata": {},
   "outputs": [],
   "source": [
    "from tensorflow.keras.preprocessing.image import ImageDataGenerator"
   ]
  },
  {
   "cell_type": "code",
   "execution_count": 4,
   "id": "213554b3-7afc-46dd-b489-a7232e22d326",
   "metadata": {},
   "outputs": [],
   "source": [
    "datagen = ImageDataGenerator(rotation_range=40, width_shift_range=0.2, height_shift_range=0.2, shear_range=0.2, horizontal_flip=True, fill_mode='nearest')"
   ]
  },
  {
   "cell_type": "code",
   "execution_count": 5,
   "id": "e38cf768-521e-4197-935c-a6d359e2378b",
   "metadata": {},
   "outputs": [
    {
     "data": {
      "text/plain": [
       "(240, 359, 3)"
      ]
     },
     "execution_count": 5,
     "metadata": {},
     "output_type": "execute_result"
    }
   ],
   "source": [
    "img = load_img('cat.jpg')\n",
    "x = img_to_array(img)\n",
    "x.shape\n"
   ]
  },
  {
   "cell_type": "code",
   "execution_count": 6,
   "id": "988bdecd-0747-4d8d-9e6f-477225f9b897",
   "metadata": {},
   "outputs": [],
   "source": [
    "x = x.reshape((1,)+x.shape)\n",
    "# this is numpy array with shape (1,240,359,3)"
   ]
  },
  {
   "cell_type": "code",
   "execution_count": 7,
   "id": "ca024463-a8e7-4d67-8a97-153ee2329c62",
   "metadata": {},
   "outputs": [
    {
     "data": {
      "text/plain": [
       "(1, 240, 359, 3)"
      ]
     },
     "execution_count": 7,
     "metadata": {},
     "output_type": "execute_result"
    }
   ],
   "source": [
    "x.shape"
   ]
  },
  {
   "cell_type": "code",
   "execution_count": 8,
   "id": "55e1b2d5-6524-4587-8d3e-8698d630172b",
   "metadata": {},
   "outputs": [],
   "source": [
    "# the flow() command below generates batches of randomly tranformed images\n",
    "# ans saves the results to preview/directory"
   ]
  },
  {
   "cell_type": "code",
   "execution_count": null,
   "id": "6c6fd571-71eb-475c-b594-936a9bb7b748",
   "metadata": {},
   "outputs": [],
   "source": [
    "i=0\n",
    "for batch in datagen.flow(x,batch_size=1, save_to_dir = 'img_dir', save_prefix='cl' , save_format= 'jpeg'):\n",
    "    i+=1\n",
    "    if i>=20:\n",
    "        "
   ]
  }
 ],
 "metadata": {
  "kernelspec": {
   "display_name": "Python 3 (ipykernel)",
   "language": "python",
   "name": "python3"
  },
  "language_info": {
   "codemirror_mode": {
    "name": "ipython",
    "version": 3
   },
   "file_extension": ".py",
   "mimetype": "text/x-python",
   "name": "python",
   "nbconvert_exporter": "python",
   "pygments_lexer": "ipython3",
   "version": "3.11.7"
  }
 },
 "nbformat": 4,
 "nbformat_minor": 5
}
